{
 "cells": [
  {
   "cell_type": "markdown",
   "id": "cb296f5e",
   "metadata": {},
   "source": [
    "###  Goal of this project\n",
    "Given a bitcoin address along with some meta-data pertaining to that address,  \n",
    "we are challenged to predict if that address has been used to receive ransoms in the past."
   ]
  },
  {
   "cell_type": "markdown",
   "id": "f0752801",
   "metadata": {},
   "source": [
    "### Notbook Workflow\n",
    "- Setup Libraries\n",
    "- Data-set\n",
    "- Preprocessing\n",
    "- Apply Classification Models\n",
    "- Apply Voting Methods\n",
    "- Apply Stacking Classifier\n",
    "- The ROC curve\n",
    "- Confusion Matrix\n",
    "- Load The Models"
   ]
  },
  {
   "cell_type": "markdown",
   "id": "8eb60999",
   "metadata": {},
   "source": [
    "# "
   ]
  },
  {
   "cell_type": "markdown",
   "id": "80b6f11e",
   "metadata": {},
   "source": [
    "### Setup"
   ]
  },
  {
   "cell_type": "markdown",
   "id": "c450c09c",
   "metadata": {},
   "source": [
    "- Data Manipulation Libraries:"
   ]
  },
  {
   "cell_type": "code",
   "execution_count": 1,
   "id": "b3f84832",
   "metadata": {},
   "outputs": [],
   "source": [
    "import pandas as pd\n",
    "import numpy  as np"
   ]
  },
  {
   "cell_type": "markdown",
   "id": "90b11737",
   "metadata": {},
   "source": [
    "- Visualization Libraries:"
   ]
  },
  {
   "cell_type": "code",
   "execution_count": 2,
   "id": "955a9716",
   "metadata": {},
   "outputs": [],
   "source": [
    "import matplotlib.pyplot as plt\n",
    "import seaborn as sns\n",
    "\n",
    "plt.style.use('fivethirtyeight')\n",
    "%matplotlib inline"
   ]
  },
  {
   "cell_type": "markdown",
   "id": "2c30d9d9",
   "metadata": {},
   "source": [
    "- Storage Libraries:"
   ]
  },
  {
   "cell_type": "code",
   "execution_count": 3,
   "id": "ad0bdc81",
   "metadata": {},
   "outputs": [],
   "source": [
    "import pickle"
   ]
  },
  {
   "cell_type": "markdown",
   "id": "d74476c2",
   "metadata": {},
   "source": [
    "- Pre-processing Libraries:"
   ]
  },
  {
   "cell_type": "code",
   "execution_count": 4,
   "id": "24667d9b",
   "metadata": {},
   "outputs": [],
   "source": [
    "from sklearn.preprocessing    import StandardScaler\n",
    "from sklearn.model_selection  import train_test_split"
   ]
  },
  {
   "cell_type": "markdown",
   "id": "a0663cf4",
   "metadata": {},
   "source": [
    "- Classifier Libraries:"
   ]
  },
  {
   "cell_type": "code",
   "execution_count": 5,
   "id": "4bb36285",
   "metadata": {},
   "outputs": [],
   "source": [
    "from sklearn.neighbors     import KNeighborsClassifier\n",
    "from sklearn.linear_model  import LogisticRegression \n",
    "from sklearn.ensemble      import RandomForestClassifier, ExtraTreesClassifier, VotingClassifier\n",
    "from sklearn.naive_bayes   import BernoulliNB, MultinomialNB, GaussianNB\n",
    "from mlxtend.classifier    import StackingClassifier"
   ]
  },
  {
   "cell_type": "markdown",
   "id": "ccddeb68",
   "metadata": {},
   "source": [
    "Matrices Libraries:"
   ]
  },
  {
   "cell_type": "code",
   "execution_count": 6,
   "id": "77809056",
   "metadata": {},
   "outputs": [],
   "source": [
    "from sklearn.metrics       import recall_score, precision_score, f1_score, accuracy_score, log_loss, plot_roc_curve , confusion_matrix, fbeta_score"
   ]
  },
  {
   "cell_type": "markdown",
   "id": "376b59d1",
   "metadata": {},
   "source": [
    "# "
   ]
  },
  {
   "cell_type": "markdown",
   "id": "7040ffb0",
   "metadata": {},
   "source": [
    "### Data-set"
   ]
  },
  {
   "cell_type": "code",
   "execution_count": 7,
   "id": "1f9dce1e",
   "metadata": {},
   "outputs": [],
   "source": [
    "file_path = 'under_sample_Data.csv'\n",
    "\n",
    "data = pd.read_csv(file_path)"
   ]
  },
  {
   "cell_type": "markdown",
   "id": "5ea357ee",
   "metadata": {},
   "source": [
    "# "
   ]
  },
  {
   "cell_type": "markdown",
   "id": "ff99df58",
   "metadata": {},
   "source": [
    "### Preprocessing"
   ]
  },
  {
   "cell_type": "markdown",
   "id": "03faaace",
   "metadata": {},
   "source": [
    "- Split the data into ( Features, Target)"
   ]
  },
  {
   "cell_type": "code",
   "execution_count": 8,
   "id": "ef4e77ad",
   "metadata": {},
   "outputs": [],
   "source": [
    "X = data.drop('label',axis=1)\n",
    "y = data.label"
   ]
  },
  {
   "cell_type": "markdown",
   "id": "61b51f6e",
   "metadata": {},
   "source": [
    "- Drop the unneeded column"
   ]
  },
  {
   "cell_type": "code",
   "execution_count": 9,
   "id": "ee0c0e26",
   "metadata": {},
   "outputs": [],
   "source": [
    "to_be_dropped = ['address']\n",
    "X = X.drop(to_be_dropped, axis=1, errors='ignore')"
   ]
  },
  {
   "cell_type": "markdown",
   "id": "57b5f7ab",
   "metadata": {},
   "source": [
    "- Data Scaling"
   ]
  },
  {
   "cell_type": "code",
   "execution_count": 10,
   "id": "32e10307",
   "metadata": {},
   "outputs": [],
   "source": [
    "std_scale = StandardScaler()\n",
    "X_sc = std_scale.fit_transform(X) "
   ]
  },
  {
   "cell_type": "markdown",
   "id": "22755472",
   "metadata": {},
   "source": [
    "- Split the data into (Train, Test) datasets"
   ]
  },
  {
   "cell_type": "code",
   "execution_count": 11,
   "id": "47c6c40b",
   "metadata": {},
   "outputs": [],
   "source": [
    "X_train, X_test, y_train, y_test = train_test_split(X_sc, y,test_size = 0.2, random_state=42)"
   ]
  },
  {
   "cell_type": "markdown",
   "id": "d597c0fd",
   "metadata": {},
   "source": [
    "# "
   ]
  },
  {
   "cell_type": "markdown",
   "id": "c8717b5f",
   "metadata": {},
   "source": [
    "### Apply Classification Models"
   ]
  },
  {
   "cell_type": "markdown",
   "id": "0bd6df5e",
   "metadata": {},
   "source": [
    "- Set the models instances"
   ]
  },
  {
   "cell_type": "code",
   "execution_count": 12,
   "id": "5d7a2950",
   "metadata": {},
   "outputs": [],
   "source": [
    "lr_model  = LogisticRegression(solver=\"lbfgs\", random_state=1)\n",
    "knn_model = KNeighborsClassifier(n_neighbors=13, weights='uniform')\n",
    "rf_model  = RandomForestClassifier(n_estimators=100, random_state=1)\n",
    "et_model  = ExtraTreesClassifier(n_estimators=100, random_state=1)\n",
    "Br_model  = BernoulliNB()\n",
    "Gn_model  = GaussianNB()\n",
    "\n",
    "models = [\"lr_model\", \"knn_model\", \"rf_model\", \"et_model\",\"Br_model\",\"Gn_model\"]"
   ]
  },
  {
   "cell_type": "markdown",
   "id": "55cb5c7b",
   "metadata": {},
   "source": [
    "- Training the models"
   ]
  },
  {
   "cell_type": "code",
   "execution_count": 13,
   "id": "08d7f242",
   "metadata": {},
   "outputs": [],
   "source": [
    "for model_name in models:\n",
    "    \n",
    "    curr_model = eval(model_name)\n",
    "    \n",
    "    curr_model.fit(X_train, y_train)"
   ]
  },
  {
   "cell_type": "markdown",
   "id": "9dd4aa8e",
   "metadata": {},
   "source": [
    "- Quick peek at each model performance"
   ]
  },
  {
   "cell_type": "code",
   "execution_count": 14,
   "id": "cbacecca",
   "metadata": {},
   "outputs": [
    {
     "name": "stdout",
     "output_type": "stream",
     "text": [
      "lr_model score: 0.7520222141736086\n",
      "knn_model score: 0.8883254859350477\n",
      "rf_model score: 0.9553905589762164\n",
      "et_model score: 0.9489315465411083\n",
      "Br_model score: 0.7598696124592539\n",
      "Gn_model score: 0.6070264396957624\n"
     ]
    }
   ],
   "source": [
    "for model_name in models:\n",
    "    curr_model = eval(model_name)\n",
    "    print(f'{model_name} score: {curr_model.score(X_test, y_test)}')"
   ]
  },
  {
   "cell_type": "code",
   "execution_count": 15,
   "id": "05ea9129",
   "metadata": {},
   "outputs": [],
   "source": [
    "model_vars = [eval(n) for n in models]\n",
    "model_list = list(zip(models, model_vars))"
   ]
  },
  {
   "cell_type": "markdown",
   "id": "8f1a62e5",
   "metadata": {},
   "source": [
    "# "
   ]
  },
  {
   "cell_type": "markdown",
   "id": "f6615c95",
   "metadata": {},
   "source": [
    "#### Get the prediction scores for each model."
   ]
  },
  {
   "cell_type": "markdown",
   "id": "22159c29",
   "metadata": {},
   "source": [
    "- Prediction variables "
   ]
  },
  {
   "cell_type": "code",
   "execution_count": 16,
   "id": "adf3cd34",
   "metadata": {},
   "outputs": [],
   "source": [
    "Lr_y_predict  = lr_model.predict(X_test)  # LogisticRegression\n",
    "knn_y_predict = knn_model.predict(X_test) # KNeighborsClassifier\n",
    "Rf_y_predict  = rf_model.predict(X_test)  # RandomForestClassifier\n",
    "Et_y_predict  = et_model.predict(X_test)  # ExtraTreesClassifier\n",
    "Br_y_predict  = Br_model.predict(X_test)  # BernoulliNB\n",
    "Gn_y_predict  = Gn_model.predict(X_test)  # GaussianNB"
   ]
  },
  {
   "cell_type": "markdown",
   "id": "e582d25a",
   "metadata": {},
   "source": [
    "- Precision vs Recall "
   ]
  },
  {
   "cell_type": "code",
   "execution_count": 17,
   "id": "b7402b72",
   "metadata": {},
   "outputs": [
    {
     "name": "stdout",
     "output_type": "stream",
     "text": [
      " Logistic Regression scores in Precision: 0.8028, Recall: 0.6678\n",
      "______________________________________________________________________\n",
      " KNeighbors scores in Precision: 0.8529, Recall: 0.9384\n",
      "______________________________________________________________________\n",
      " Random Forest scores in Precision: 0.9584, Recall: 0.9520\n",
      "______________________________________________________________________\n",
      " Extra Trees scores in Precision: 0.9486, Recall: 0.9493\n",
      "______________________________________________________________________\n",
      " BernoulliNB scores in Precision: 0.8451, Recall: 0.6361\n",
      "______________________________________________________________________\n",
      " GaussianNB  scores in Precision: 0.5615, Recall: 0.9755\n"
     ]
    }
   ],
   "source": [
    "print(\" Logistic Regression scores in Precision: {:6.4f}, Recall: {:6.4f}\".format(precision_score(y_test, Lr_y_predict), \n",
    "                                                                                      recall_score(y_test, Lr_y_predict)))\n",
    "print(\"______________________________________________________________________\")\n",
    "\n",
    "print(\" KNeighbors scores in Precision: {:6.4f}, Recall: {:6.4f}\".format(precision_score(y_test, knn_y_predict), \n",
    "                                                                                      recall_score(y_test, knn_y_predict)))\n",
    "print(\"______________________________________________________________________\")\n",
    "\n",
    "print(\" Random Forest scores in Precision: {:6.4f}, Recall: {:6.4f}\".format(precision_score(y_test, Rf_y_predict), \n",
    "                                                                                       recall_score(y_test, Rf_y_predict)))\n",
    "print(\"______________________________________________________________________\")\n",
    "\n",
    "print(\" Extra Trees scores in Precision: {:6.4f}, Recall: {:6.4f}\".format(precision_score(y_test, Et_y_predict), \n",
    "                                                                                       recall_score(y_test, Et_y_predict)))\n",
    "print(\"______________________________________________________________________\")\n",
    "\n",
    "print(\" BernoulliNB scores in Precision: {:6.4f}, Recall: {:6.4f}\".format(precision_score(y_test, Br_y_predict), \n",
    "                                                                                       recall_score(y_test, Br_y_predict)))\n",
    "print(\"______________________________________________________________________\")\n",
    "\n",
    "print(\" GaussianNB  scores in Precision: {:6.4f}, Recall: {:6.4f}\".format(precision_score(y_test, Gn_y_predict), \n",
    "                                                                                       recall_score(y_test, Gn_y_predict)))"
   ]
  },
  {
   "cell_type": "markdown",
   "id": "c7c9178a",
   "metadata": {},
   "source": [
    "# "
   ]
  },
  {
   "cell_type": "markdown",
   "id": "89246cff",
   "metadata": {},
   "source": [
    "- F scores using default dgree (beta = 1) and the second dgree (beta = 2)"
   ]
  },
  {
   "cell_type": "code",
   "execution_count": 18,
   "id": "88a75cc8",
   "metadata": {},
   "outputs": [
    {
     "name": "stdout",
     "output_type": "stream",
     "text": [
      " Logistic Regression scores in F1: 0.7291, F2: 0.6911\n",
      "______________________________________________________________________\n",
      " KNeighbors scores in F1: 0.8936, F2: 0.9200\n",
      "______________________________________________________________________\n",
      " Random Forest scores in F1: 0.9552, F2: 0.9533\n",
      "______________________________________________________________________\n",
      " Extra Trees scores in F1: 0.9489, F2: 0.9491\n",
      "______________________________________________________________________\n",
      " BernoulliNB scores in F1: 0.7258, F2: 0.6692\n",
      "______________________________________________________________________\n",
      " GaussianNB scores in F1: 0.7127, F2: 0.8501\n",
      "______________________________________________________________________\n"
     ]
    },
    {
     "name": "stderr",
     "output_type": "stream",
     "text": [
      "/Users/macbookproretina13inch/opt/anaconda3/lib/python3.8/site-packages/sklearn/utils/validation.py:70: FutureWarning: Pass beta=2 as keyword args. From version 1.0 (renaming of 0.25) passing these as positional arguments will result in an error\n",
      "  warnings.warn(f\"Pass {args_msg} as keyword args. From version \"\n",
      "/Users/macbookproretina13inch/opt/anaconda3/lib/python3.8/site-packages/sklearn/utils/validation.py:70: FutureWarning: Pass beta=2 as keyword args. From version 1.0 (renaming of 0.25) passing these as positional arguments will result in an error\n",
      "  warnings.warn(f\"Pass {args_msg} as keyword args. From version \"\n",
      "/Users/macbookproretina13inch/opt/anaconda3/lib/python3.8/site-packages/sklearn/utils/validation.py:70: FutureWarning: Pass beta=2 as keyword args. From version 1.0 (renaming of 0.25) passing these as positional arguments will result in an error\n",
      "  warnings.warn(f\"Pass {args_msg} as keyword args. From version \"\n",
      "/Users/macbookproretina13inch/opt/anaconda3/lib/python3.8/site-packages/sklearn/utils/validation.py:70: FutureWarning: Pass beta=2 as keyword args. From version 1.0 (renaming of 0.25) passing these as positional arguments will result in an error\n",
      "  warnings.warn(f\"Pass {args_msg} as keyword args. From version \"\n",
      "/Users/macbookproretina13inch/opt/anaconda3/lib/python3.8/site-packages/sklearn/utils/validation.py:70: FutureWarning: Pass beta=2 as keyword args. From version 1.0 (renaming of 0.25) passing these as positional arguments will result in an error\n",
      "  warnings.warn(f\"Pass {args_msg} as keyword args. From version \"\n",
      "/Users/macbookproretina13inch/opt/anaconda3/lib/python3.8/site-packages/sklearn/utils/validation.py:70: FutureWarning: Pass beta=2 as keyword args. From version 1.0 (renaming of 0.25) passing these as positional arguments will result in an error\n",
      "  warnings.warn(f\"Pass {args_msg} as keyword args. From version \"\n"
     ]
    }
   ],
   "source": [
    "print(\" Logistic Regression scores in F1: {:6.4f}, F2: {:6.4f}\".format(f1_score(y_test, Lr_y_predict), \n",
    "                                                                                      fbeta_score(y_test, Lr_y_predict,2)))\n",
    "print(\"______________________________________________________________________\")\n",
    "\n",
    "print(\" KNeighbors scores in F1: {:6.4f}, F2: {:6.4f}\".format(f1_score(y_test, knn_y_predict), \n",
    "                                                                                      fbeta_score(y_test, knn_y_predict,2)))\n",
    "print(\"______________________________________________________________________\")\n",
    "\n",
    "print(\" Random Forest scores in F1: {:6.4f}, F2: {:6.4f}\".format(f1_score(y_test, Rf_y_predict), \n",
    "                                                                                      fbeta_score(y_test, Rf_y_predict,2)))\n",
    "print(\"______________________________________________________________________\")\n",
    "\n",
    "print(\" Extra Trees scores in F1: {:6.4f}, F2: {:6.4f}\".format(f1_score(y_test, Et_y_predict), \n",
    "                                                                                      fbeta_score(y_test, Et_y_predict,2)))\n",
    "print(\"______________________________________________________________________\")\n",
    "\n",
    "print(\" BernoulliNB scores in F1: {:6.4f}, F2: {:6.4f}\".format(f1_score(y_test, Br_y_predict), \n",
    "                                                                                      fbeta_score(y_test, Br_y_predict,2)))\n",
    "print(\"______________________________________________________________________\")\n",
    "\n",
    "print(\" GaussianNB scores in F1: {:6.4f}, F2: {:6.4f}\".format(f1_score(y_test, Gn_y_predict), \n",
    "                                                                                      fbeta_score(y_test, Gn_y_predict,2)))\n",
    "print(\"______________________________________________________________________\")\n"
   ]
  },
  {
   "cell_type": "markdown",
   "id": "3d9f6303",
   "metadata": {},
   "source": [
    "# "
   ]
  },
  {
   "cell_type": "markdown",
   "id": "3e840d4f",
   "metadata": {},
   "source": [
    "### Apply Voting Methods"
   ]
  },
  {
   "cell_type": "markdown",
   "id": "bc78a296",
   "metadata": {},
   "source": [
    "- **Max Voting**"
   ]
  },
  {
   "cell_type": "code",
   "execution_count": 19,
   "id": "e8d3b978",
   "metadata": {},
   "outputs": [],
   "source": [
    "# create voting classifier\n",
    "voting_classifer = VotingClassifier(estimators= model_list,\n",
    "                                    voting='hard', # <-- sklearn calls this hard voting\n",
    "                                    n_jobs=-1)"
   ]
  },
  {
   "cell_type": "code",
   "execution_count": 20,
   "id": "c6013eb0",
   "metadata": {},
   "outputs": [
    {
     "data": {
      "text/plain": [
       "VotingClassifier(estimators=[('lr_model', LogisticRegression(random_state=1)),\n",
       "                             ('knn_model',\n",
       "                              KNeighborsClassifier(n_neighbors=13)),\n",
       "                             ('rf_model',\n",
       "                              RandomForestClassifier(random_state=1)),\n",
       "                             ('et_model', ExtraTreesClassifier(random_state=1)),\n",
       "                             ('Br_model', BernoulliNB()),\n",
       "                             ('Gn_model', GaussianNB())],\n",
       "                 n_jobs=-1)"
      ]
     },
     "execution_count": 20,
     "metadata": {},
     "output_type": "execute_result"
    }
   ],
   "source": [
    "voting_classifer.fit(X_train, y_train)"
   ]
  },
  {
   "cell_type": "code",
   "execution_count": 21,
   "id": "5ce7fbfe",
   "metadata": {},
   "outputs": [],
   "source": [
    "y_pred = voting_classifer.predict(X_test)"
   ]
  },
  {
   "cell_type": "code",
   "execution_count": 22,
   "id": "5431b472",
   "metadata": {},
   "outputs": [
    {
     "name": "stdout",
     "output_type": "stream",
     "text": [
      "Accuracy Score: 0.9312447180973077\n",
      "_____________________________________________________________________________\n",
      "Precision: 0.9415,   Recall: 0.9196\n",
      "_____________________________________________________________________________\n",
      "Scores of F1: 0.9304, F2: 0.9239\n"
     ]
    },
    {
     "name": "stderr",
     "output_type": "stream",
     "text": [
      "/Users/macbookproretina13inch/opt/anaconda3/lib/python3.8/site-packages/sklearn/utils/validation.py:70: FutureWarning: Pass beta=2 as keyword args. From version 1.0 (renaming of 0.25) passing these as positional arguments will result in an error\n",
      "  warnings.warn(f\"Pass {args_msg} as keyword args. From version \"\n"
     ]
    }
   ],
   "source": [
    "print(\"Accuracy Score:\", accuracy_score(y_test, y_pred) )\n",
    "print(\"_____________________________________________________________________________\")\n",
    "\n",
    "print(\"Precision: {:6.4f},   Recall: {:6.4f}\".format(precision_score(y_test, y_pred), \n",
    "                                                     recall_score(y_test, y_pred)))\n",
    "print(\"_____________________________________________________________________________\")\n",
    "\n",
    "print(\"Scores of F1: {:6.4f}, F2: {:6.4f}\".format(f1_score(y_test, y_pred),fbeta_score(y_test, y_pred,2)))"
   ]
  },
  {
   "cell_type": "markdown",
   "id": "f75afdb8",
   "metadata": {},
   "source": [
    "# "
   ]
  },
  {
   "cell_type": "markdown",
   "id": "c4394aa9",
   "metadata": {},
   "source": [
    "- **Average Voting**"
   ]
  },
  {
   "cell_type": "code",
   "execution_count": 23,
   "id": "87104275",
   "metadata": {},
   "outputs": [],
   "source": [
    "# create voting classifier\n",
    "voting_classifer = VotingClassifier(estimators=model_list,\n",
    "                                    voting='soft', #<-- sklearn calls this soft voting\n",
    "                                    n_jobs=-1)"
   ]
  },
  {
   "cell_type": "code",
   "execution_count": 24,
   "id": "62cc4008",
   "metadata": {},
   "outputs": [
    {
     "data": {
      "text/plain": [
       "VotingClassifier(estimators=[('lr_model', LogisticRegression(random_state=1)),\n",
       "                             ('knn_model',\n",
       "                              KNeighborsClassifier(n_neighbors=13)),\n",
       "                             ('rf_model',\n",
       "                              RandomForestClassifier(random_state=1)),\n",
       "                             ('et_model', ExtraTreesClassifier(random_state=1)),\n",
       "                             ('Br_model', BernoulliNB()),\n",
       "                             ('Gn_model', GaussianNB())],\n",
       "                 n_jobs=-1, voting='soft')"
      ]
     },
     "execution_count": 24,
     "metadata": {},
     "output_type": "execute_result"
    }
   ],
   "source": [
    "voting_classifer.fit(X_train, y_train)"
   ]
  },
  {
   "cell_type": "code",
   "execution_count": 25,
   "id": "1c2ccc9a",
   "metadata": {},
   "outputs": [],
   "source": [
    "y_pred = voting_classifer.predict(X_test)"
   ]
  },
  {
   "cell_type": "code",
   "execution_count": 26,
   "id": "2665cedf",
   "metadata": {},
   "outputs": [
    {
     "name": "stdout",
     "output_type": "stream",
     "text": [
      "Accuracy Score: 0.9311843534951104\n",
      "_____________________________________________________________________________\n",
      "Precision: 0.9130,   Recall: 0.9531\n",
      "_____________________________________________________________________________\n",
      "Scores of F1: 0.9326, F2: 0.9448\n"
     ]
    },
    {
     "name": "stderr",
     "output_type": "stream",
     "text": [
      "/Users/macbookproretina13inch/opt/anaconda3/lib/python3.8/site-packages/sklearn/utils/validation.py:70: FutureWarning: Pass beta=2 as keyword args. From version 1.0 (renaming of 0.25) passing these as positional arguments will result in an error\n",
      "  warnings.warn(f\"Pass {args_msg} as keyword args. From version \"\n"
     ]
    }
   ],
   "source": [
    "print(\"Accuracy Score:\", accuracy_score(y_test, y_pred) )\n",
    "print(\"_____________________________________________________________________________\")\n",
    "\n",
    "print(\"Precision: {:6.4f},   Recall: {:6.4f}\".format(precision_score(y_test, y_pred), \n",
    "                                                     recall_score(y_test, y_pred)))\n",
    "print(\"_____________________________________________________________________________\")\n",
    "\n",
    "print(\"Scores of F1: {:6.4f}, F2: {:6.4f}\".format(f1_score(y_test, y_pred),fbeta_score(y_test, y_pred,2)))"
   ]
  },
  {
   "cell_type": "markdown",
   "id": "1a0f1521",
   "metadata": {},
   "source": [
    "# "
   ]
  },
  {
   "cell_type": "markdown",
   "id": "592dfdb4",
   "metadata": {},
   "source": [
    "- **Weighted Voting**"
   ]
  },
  {
   "cell_type": "code",
   "execution_count": 27,
   "id": "9085541b",
   "metadata": {},
   "outputs": [],
   "source": [
    "# create voting classifier\n",
    "weights = [1.5,3.8,4.2,2.2,3.1,2.4]\n",
    "voting_model = VotingClassifier(estimators=model_list,\n",
    "                                    voting='soft', \n",
    "                                    weights = weights,  #include weights\n",
    "                                    n_jobs=-1)"
   ]
  },
  {
   "cell_type": "code",
   "execution_count": 28,
   "id": "6aba3e76",
   "metadata": {},
   "outputs": [
    {
     "data": {
      "text/plain": [
       "VotingClassifier(estimators=[('lr_model', LogisticRegression(random_state=1)),\n",
       "                             ('knn_model',\n",
       "                              KNeighborsClassifier(n_neighbors=13)),\n",
       "                             ('rf_model',\n",
       "                              RandomForestClassifier(random_state=1)),\n",
       "                             ('et_model', ExtraTreesClassifier(random_state=1)),\n",
       "                             ('Br_model', BernoulliNB()),\n",
       "                             ('Gn_model', GaussianNB())],\n",
       "                 n_jobs=-1, voting='soft',\n",
       "                 weights=[1.5, 3.8, 4.2, 2.2, 3.1, 2.4])"
      ]
     },
     "execution_count": 28,
     "metadata": {},
     "output_type": "execute_result"
    }
   ],
   "source": [
    "voting_model.fit(X_train, y_train)"
   ]
  },
  {
   "cell_type": "code",
   "execution_count": 29,
   "id": "5bb6155e",
   "metadata": {},
   "outputs": [],
   "source": [
    "y_pred = voting_model.predict(X_test)"
   ]
  },
  {
   "cell_type": "code",
   "execution_count": 30,
   "id": "e134807d",
   "metadata": {},
   "outputs": [
    {
     "name": "stdout",
     "output_type": "stream",
     "text": [
      "Accuracy Score: 0.937100084510443\n",
      "_____________________________________________________________________________\n",
      "Precision: 0.9223,   Recall: 0.9546\n",
      "_____________________________________________________________________________\n",
      "Scores of F1: 0.9382, F2: 0.9479\n"
     ]
    },
    {
     "name": "stderr",
     "output_type": "stream",
     "text": [
      "/Users/macbookproretina13inch/opt/anaconda3/lib/python3.8/site-packages/sklearn/utils/validation.py:70: FutureWarning: Pass beta=2 as keyword args. From version 1.0 (renaming of 0.25) passing these as positional arguments will result in an error\n",
      "  warnings.warn(f\"Pass {args_msg} as keyword args. From version \"\n"
     ]
    }
   ],
   "source": [
    "print(\"Accuracy Score:\", accuracy_score(y_test, y_pred) )\n",
    "print(\"_____________________________________________________________________________\")\n",
    "\n",
    "print(\"Precision: {:6.4f},   Recall: {:6.4f}\".format(precision_score(y_test, y_pred), \n",
    "                                                     recall_score(y_test, y_pred)))\n",
    "print(\"_____________________________________________________________________________\")\n",
    "\n",
    "print(\"Scores of F1: {:6.4f}, F2: {:6.4f}\".format(f1_score(y_test, y_pred),fbeta_score(y_test, y_pred,2)))"
   ]
  },
  {
   "cell_type": "markdown",
   "id": "6dde8172",
   "metadata": {},
   "source": [
    "# "
   ]
  },
  {
   "cell_type": "markdown",
   "id": "4456f969",
   "metadata": {},
   "source": [
    "### Apply Stacking Classifier"
   ]
  },
  {
   "cell_type": "code",
   "execution_count": 31,
   "id": "c04db091",
   "metadata": {},
   "outputs": [],
   "source": [
    "stacked = StackingClassifier(\n",
    "    classifiers=model_vars, meta_classifier=RandomForestClassifier(), use_probas=False)"
   ]
  },
  {
   "cell_type": "code",
   "execution_count": 32,
   "id": "68d9b2e7",
   "metadata": {},
   "outputs": [
    {
     "data": {
      "text/plain": [
       "StackingClassifier(classifiers=[LogisticRegression(random_state=1),\n",
       "                                KNeighborsClassifier(n_neighbors=13),\n",
       "                                RandomForestClassifier(random_state=1),\n",
       "                                ExtraTreesClassifier(random_state=1),\n",
       "                                BernoulliNB(), GaussianNB()],\n",
       "                   meta_classifier=RandomForestClassifier())"
      ]
     },
     "execution_count": 32,
     "metadata": {},
     "output_type": "execute_result"
    }
   ],
   "source": [
    "stacked.fit(X_train, y_train)"
   ]
  },
  {
   "cell_type": "code",
   "execution_count": 33,
   "id": "bad3fa70",
   "metadata": {},
   "outputs": [],
   "source": [
    "y_pred = stacked.predict(X_test)"
   ]
  },
  {
   "cell_type": "code",
   "execution_count": 34,
   "id": "577605a2",
   "metadata": {},
   "outputs": [
    {
     "name": "stdout",
     "output_type": "stream",
     "text": [
      "Accuracy Score: 0.9491126403477002\n",
      "_____________________________________________________________________________\n",
      "Precision: 0.9470,   Recall: 0.9514\n",
      "_____________________________________________________________________________\n",
      "Scores of F1: 0.9492, F2: 0.9505\n"
     ]
    },
    {
     "name": "stderr",
     "output_type": "stream",
     "text": [
      "/Users/macbookproretina13inch/opt/anaconda3/lib/python3.8/site-packages/sklearn/utils/validation.py:70: FutureWarning: Pass beta=2 as keyword args. From version 1.0 (renaming of 0.25) passing these as positional arguments will result in an error\n",
      "  warnings.warn(f\"Pass {args_msg} as keyword args. From version \"\n"
     ]
    }
   ],
   "source": [
    "print(\"Accuracy Score:\", accuracy_score(y_test, y_pred) )\n",
    "print(\"_____________________________________________________________________________\")\n",
    "\n",
    "print(\"Precision: {:6.4f},   Recall: {:6.4f}\".format(precision_score(y_test, y_pred), \n",
    "                                                     recall_score(y_test, y_pred)))\n",
    "print(\"_____________________________________________________________________________\")\n",
    "\n",
    "print(\"Scores of F1: {:6.4f}, F2: {:6.4f}\".format(f1_score(y_test, y_pred),fbeta_score(y_test, y_pred,2)))"
   ]
  },
  {
   "cell_type": "markdown",
   "id": "6a65d6fd",
   "metadata": {},
   "source": [
    "# "
   ]
  },
  {
   "cell_type": "markdown",
   "id": "7466ad74",
   "metadata": {},
   "source": [
    "#### The ROC curve"
   ]
  },
  {
   "cell_type": "code",
   "execution_count": 35,
   "id": "eb11c764",
   "metadata": {},
   "outputs": [],
   "source": [
    "from sklearn.metrics import roc_auc_score, roc_curve"
   ]
  },
  {
   "cell_type": "code",
   "execution_count": 36,
   "id": "e4302679",
   "metadata": {},
   "outputs": [],
   "source": [
    "fpr, tpr, thresholds = roc_curve(y_test, stacked.predict_proba(X_test)[:,1])"
   ]
  },
  {
   "cell_type": "code",
   "execution_count": null,
   "id": "26265405",
   "metadata": {},
   "outputs": [],
   "source": [
    "plt.plot(fpr, tpr,lw=2)\n",
    "plt.plot([0,1],[0,1],c='violet',ls='--')\n",
    "plt.xlim([-0.05,1.05])\n",
    "plt.ylim([-0.05,1.05])\n",
    "\n",
    "\n",
    "plt.xlabel('False positive rate')\n",
    "plt.ylabel('True positive rate')\n",
    "plt.title('ROC curve for Ransomware problem');\n",
    "print(\"ROC AUC score = \", roc_auc_score(y_test, stacked.predict_proba(X_test)[:,1]))"
   ]
  },
  {
   "cell_type": "markdown",
   "id": "21a33947",
   "metadata": {},
   "source": [
    "# "
   ]
  },
  {
   "cell_type": "markdown",
   "id": "30e92758",
   "metadata": {},
   "source": [
    "#### Confusion Matrix"
   ]
  },
  {
   "cell_type": "code",
   "execution_count": null,
   "id": "a6fde2e1",
   "metadata": {},
   "outputs": [],
   "source": [
    "def make_confusion_matrix(model, threshold=0.5):\n",
    "    # Predict class 1 if probability of being in class 1 is greater than threshold\n",
    "    # (model.predict(X_test) does this automatically with a threshold of 0.5)\n",
    "    y_predict = (model.predict_proba(X_test)[:, 1] >= threshold)\n",
    "    fraud_confusion = confusion_matrix(y_test, y_predict)\n",
    "    plt.figure(dpi=80)\n",
    "    sns.heatmap(fraud_confusion, cmap=plt.cm.Blues, annot=True, square=True, fmt='d',\n",
    "           xticklabels=['White', 'Ransomware'],\n",
    "           yticklabels=['White', 'Ransomware']);\n",
    "    plt.xlabel('prediction')\n",
    "    plt.ylabel('actual')"
   ]
  },
  {
   "cell_type": "code",
   "execution_count": null,
   "id": "2234b67c",
   "metadata": {},
   "outputs": [],
   "source": [
    "make_confusion_matrix(stacked)"
   ]
  },
  {
   "cell_type": "markdown",
   "id": "509aff33",
   "metadata": {},
   "source": [
    "# "
   ]
  },
  {
   "cell_type": "markdown",
   "id": "88b67758",
   "metadata": {},
   "source": [
    "#### Store the models in Pickle files"
   ]
  },
  {
   "cell_type": "code",
   "execution_count": null,
   "id": "c92b2542",
   "metadata": {},
   "outputs": [],
   "source": [
    "for model in models:\n",
    "    pickle.dump(model, open('model.pkl', 'wb'))"
   ]
  },
  {
   "cell_type": "markdown",
   "id": "9862c668",
   "metadata": {},
   "source": [
    "# "
   ]
  },
  {
   "cell_type": "markdown",
   "id": "1494e8ad",
   "metadata": {},
   "source": [
    "- **End of This Notbook** "
   ]
  }
 ],
 "metadata": {
  "kernelspec": {
   "display_name": "Python 3",
   "language": "python",
   "name": "python3"
  },
  "language_info": {
   "codemirror_mode": {
    "name": "ipython",
    "version": 3
   },
   "file_extension": ".py",
   "mimetype": "text/x-python",
   "name": "python",
   "nbconvert_exporter": "python",
   "pygments_lexer": "ipython3",
   "version": "3.8.8"
  }
 },
 "nbformat": 4,
 "nbformat_minor": 5
}
